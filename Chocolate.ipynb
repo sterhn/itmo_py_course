{
  "nbformat": 4,
  "nbformat_minor": 0,
  "metadata": {
    "colab": {
      "provenance": []
    },
    "kernelspec": {
      "name": "python3",
      "display_name": "Python 3"
    },
    "language_info": {
      "name": "python"
    }
  },
  "cells": [
    {
      "cell_type": "markdown",
      "source": [
        "Создайте класс Chocolate (для определения шоколадного батончика), принимающий следующие аргументы при инициализации: цена батончика (тип - float), добавка к шоколаду (необязательный аргумент, тип - str) - 2 балла\n",
        "При инициализации необходимо проверять, чтобы цена батончика была больше нуля, если цена меньше нуля необходимо вызывать исключение ValueError - 2 балла\n",
        "\n",
        "Реализуйте метод show_my_chocolate, выводящий на печать \"Шоколадный батончик, добавка: {ДОБАВКА}\" в случае наличия добавки, а иначе должна отобразиться следующая фраза: \"Обычный шоколадный батончик\" - 2 балла\n",
        "Переопределите метод __str__, который при применении функции print() к объекты класса Chocolate должен возвращать строку \"Шоколадный батончик, <ЦЕНА> рублей\" - 2 балла\n",
        "\n",
        "Продемонстрируйте использование соответствующего функционала вашего класса, создав несколько объектов Chocolate с различными аргументами - 2 балла"
      ],
      "metadata": {
        "id": "P3PTdkM3MXey"
      }
    },
    {
      "cell_type": "code",
      "execution_count": null,
      "metadata": {
        "colab": {
          "base_uri": "https://localhost:8080/"
        },
        "id": "jrWedqeUMWjH",
        "outputId": "20d91bad-ffb2-4084-ddc6-f60477c91df8"
      },
      "outputs": [
        {
          "output_type": "stream",
          "name": "stdout",
          "text": [
            "Шоколадный батончик, добавка: кокос\n",
            "Шоколадный батончик, 63 рублей\n",
            "-------------\n",
            "Шоколадный батончик, добавка: кокос\n",
            "Шоколадный батончик, 42 рублей\n",
            "-------------\n",
            "Обычный шоколадный батончик\n",
            "Шоколадный батончик, 15 рублей\n"
          ]
        }
      ],
      "source": [
        "class Chocolate:\n",
        "  def __init__(self, price: float, extra: str = None):\n",
        "    if price <= 0:\n",
        "        raise ValueError(\"Chocolate price must be more than 0\")\n",
        "    self.price = price\n",
        "    self.extra = extra\n",
        "\n",
        "  def show_my_chocolate(self) -> str:\n",
        "    if self.extra:\n",
        "      return f'Шоколадный батончик, добавка: {self.extra}'\n",
        "    return f'Обычный шоколадный батончик'\n",
        "\n",
        "  def __str__(self) -> str:\n",
        "    return f'Шоколадный батончик, {self.price} рублей'\n",
        "\n",
        "bounty = Chocolate(63, 'кокос')\n",
        "print(bounty.show_my_chocolate())\n",
        "print(bounty)\n",
        "print('-------------')\n",
        "mars = Chocolate(42, 'кокос')\n",
        "print(mars.show_my_chocolate())\n",
        "print(mars)\n",
        "print('-------------')\n",
        "alenka = Chocolate(15)\n",
        "print(alenka.show_my_chocolate())\n",
        "print(alenka)"
      ]
    }
  ]
}